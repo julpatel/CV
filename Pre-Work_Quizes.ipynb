{
  "nbformat": 4,
  "nbformat_minor": 0,
  "metadata": {
    "colab": {
      "provenance": [],
      "authorship_tag": "ABX9TyN8eNXe/aPZPNtt8iybBasT",
      "include_colab_link": true
    },
    "kernelspec": {
      "name": "python3",
      "display_name": "Python 3"
    },
    "language_info": {
      "name": "python"
    }
  },
  "cells": [
    {
      "cell_type": "markdown",
      "metadata": {
        "id": "view-in-github",
        "colab_type": "text"
      },
      "source": [
        "<a href=\"https://colab.research.google.com/github/julpatel/CV/blob/master/Pre-Work_Quizes.ipynb\" target=\"_parent\"><img src=\"https://colab.research.google.com/assets/colab-badge.svg\" alt=\"Open In Colab\"/></a>"
      ]
    },
    {
      "cell_type": "code",
      "execution_count": null,
      "metadata": {
        "id": "iPviLkHwq4NF"
      },
      "outputs": [],
      "source": []
    },
    {
      "cell_type": "code",
      "source": [
        "def func(a):\n",
        "  print(a)\n",
        "\n",
        "A = [0,1,2,3]\n",
        "func(A)"
      ],
      "metadata": {
        "colab": {
          "base_uri": "https://localhost:8080/"
        },
        "id": "P_iPrnOdq424",
        "outputId": "8443db5f-8591-4952-9f63-01fa764e4538"
      },
      "execution_count": null,
      "outputs": [
        {
          "output_type": "stream",
          "name": "stdout",
          "text": [
            "[0, 1, 2, 3]\n"
          ]
        }
      ]
    },
    {
      "cell_type": "code",
      "source": [
        "def say(message, times):\n",
        "  print(message*times)\n",
        "say(\"How are you\", 2)"
      ],
      "metadata": {
        "colab": {
          "base_uri": "https://localhost:8080/"
        },
        "id": "zRSg4bIrrMSD",
        "outputId": "25d0fb0e-c92a-42b4-bc57-29b9d0f28cc1"
      },
      "execution_count": null,
      "outputs": [
        {
          "output_type": "stream",
          "name": "stdout",
          "text": [
            "How are youHow are you\n"
          ]
        }
      ]
    },
    {
      "cell_type": "code",
      "source": [
        "repeated_list = [2] * 4\n",
        "print(repeated_list)"
      ],
      "metadata": {
        "colab": {
          "base_uri": "https://localhost:8080/"
        },
        "id": "2XWYJSfAr52K",
        "outputId": "b5d9a0de-b798-41b7-a687-e8daa43d804a"
      },
      "execution_count": null,
      "outputs": [
        {
          "output_type": "stream",
          "name": "stdout",
          "text": [
            "[2, 2, 2, 2]\n"
          ]
        }
      ]
    },
    {
      "cell_type": "code",
      "source": [
        "alphabet = ['a','b','c']\n",
        "for i in alphabet:\n",
        "  print(i)"
      ],
      "metadata": {
        "colab": {
          "base_uri": "https://localhost:8080/"
        },
        "id": "qzOEuevPe5Wu",
        "outputId": "30b36dd9-7dd5-4a35-9757-31efd9478419"
      },
      "execution_count": null,
      "outputs": [
        {
          "output_type": "stream",
          "name": "stdout",
          "text": [
            "a\n",
            "b\n",
            "c\n"
          ]
        }
      ]
    },
    {
      "cell_type": "code",
      "source": [
        "number = [1, 12, 24, 36, 11, 20,50]\n",
        "for i in number:\n",
        " sq = i * i\n",
        " print(sq)\n",
        "len(number)"
      ],
      "metadata": {
        "colab": {
          "base_uri": "https://localhost:8080/"
        },
        "id": "Inm3Z0Yif_3Z",
        "outputId": "be9e67d8-3489-4757-ca99-4cbb18d82e85"
      },
      "execution_count": null,
      "outputs": [
        {
          "output_type": "stream",
          "name": "stdout",
          "text": [
            "1\n",
            "144\n",
            "576\n",
            "1296\n",
            "121\n",
            "400\n",
            "2500\n"
          ]
        },
        {
          "output_type": "execute_result",
          "data": {
            "text/plain": [
              "7"
            ]
          },
          "metadata": {},
          "execution_count": 5
        }
      ]
    },
    {
      "cell_type": "code",
      "source": [
        "color = ['white','red', 'blue', 'green','blue','yellow', 'black']\n",
        "color.pop(5)\n",
        "print(color)\n"
      ],
      "metadata": {
        "colab": {
          "base_uri": "https://localhost:8080/"
        },
        "id": "XK5UNAangaSm",
        "outputId": "cbc81008-a0c9-4701-a1bc-98ad2180163e"
      },
      "execution_count": null,
      "outputs": [
        {
          "output_type": "stream",
          "name": "stdout",
          "text": [
            "['white', 'red', 'blue', 'green', 'blue', 'black']\n"
          ]
        }
      ]
    },
    {
      "cell_type": "code",
      "source": [
        "print (\"Good Bye\")"
      ],
      "metadata": {
        "colab": {
          "base_uri": "https://localhost:8080/"
        },
        "id": "zIt3Nk9yhMOb",
        "outputId": "5cb5dc50-521b-4d95-8153-e88a238b66af"
      },
      "execution_count": null,
      "outputs": [
        {
          "output_type": "stream",
          "name": "stdout",
          "text": [
            "Good Bye\n"
          ]
        }
      ]
    },
    {
      "cell_type": "code",
      "source": [
        "car = { \"brand\" : \"Audi\",\"model\" : \"Q2\", \"year\" : 1980}\n",
        "car[\"year\"] = 2019\n",
        "print(car)"
      ],
      "metadata": {
        "colab": {
          "base_uri": "https://localhost:8080/"
        },
        "id": "vyprXiYug6DA",
        "outputId": "0d383e75-081a-447b-f429-731b6013f255"
      },
      "execution_count": null,
      "outputs": [
        {
          "output_type": "stream",
          "name": "stdout",
          "text": [
            "{'brand': 'Audi', 'model': 'Q2', 'year': 2019}\n"
          ]
        }
      ]
    },
    {
      "cell_type": "code",
      "source": [
        "a = 2021\n",
        "print (a%2)"
      ],
      "metadata": {
        "colab": {
          "base_uri": "https://localhost:8080/"
        },
        "id": "OoGdFDg-gah_",
        "outputId": "80cc962a-8800-4e2b-959a-b021563970b8"
      },
      "execution_count": null,
      "outputs": [
        {
          "output_type": "stream",
          "name": "stdout",
          "text": [
            "1\n"
          ]
        }
      ]
    },
    {
      "cell_type": "code",
      "source": [
        "for i in range(-10, 0, 1):\n",
        " print(i)"
      ],
      "metadata": {
        "colab": {
          "base_uri": "https://localhost:8080/"
        },
        "id": "gZYihj6hgavM",
        "outputId": "6daf4afb-cb57-4004-cca5-b3d802d93c22"
      },
      "execution_count": null,
      "outputs": [
        {
          "output_type": "stream",
          "name": "stdout",
          "text": [
            "-10\n",
            "-9\n",
            "-8\n",
            "-7\n",
            "-6\n",
            "-5\n",
            "-4\n",
            "-3\n",
            "-2\n",
            "-1\n"
          ]
        }
      ]
    },
    {
      "cell_type": "code",
      "source": [
        "n = 10\n",
        "i = 1\n",
        "while i <= n:\n",
        " print(i)\n",
        " i=i+1\n"
      ],
      "metadata": {
        "colab": {
          "base_uri": "https://localhost:8080/"
        },
        "id": "pVa85TCMCKxV",
        "outputId": "1e0ee9b0-b589-432a-adae-38490a911b7c"
      },
      "execution_count": null,
      "outputs": [
        {
          "output_type": "stream",
          "name": "stdout",
          "text": [
            "1\n",
            "2\n",
            "3\n",
            "4\n",
            "5\n",
            "6\n",
            "7\n",
            "8\n",
            "9\n",
            "10\n"
          ]
        }
      ]
    },
    {
      "cell_type": "code",
      "source": [
        "for i in range(1, 21):\n",
        " if i % 2 != 0:\n",
        "     print(i)\n"
      ],
      "metadata": {
        "colab": {
          "base_uri": "https://localhost:8080/"
        },
        "id": "FiCmqgXVCiU2",
        "outputId": "c097fdf1-6d97-495c-d2bd-d67a366405d3"
      },
      "execution_count": null,
      "outputs": [
        {
          "output_type": "stream",
          "name": "stdout",
          "text": [
            "1\n",
            "3\n",
            "5\n",
            "7\n",
            "9\n",
            "11\n",
            "13\n",
            "15\n",
            "17\n",
            "19\n"
          ]
        }
      ]
    },
    {
      "cell_type": "code",
      "source": [
        "n = 8\n",
        "for i in range(1, 11):\n",
        " print(\"{} * {} =\".format(n, i), n*i)"
      ],
      "metadata": {
        "colab": {
          "base_uri": "https://localhost:8080/"
        },
        "id": "INzGPVYVC9CQ",
        "outputId": "7605db63-71f9-4a88-b35a-b838bb03fe97"
      },
      "execution_count": null,
      "outputs": [
        {
          "output_type": "stream",
          "name": "stdout",
          "text": [
            "8 * 1 = 8\n",
            "8 * 2 = 16\n",
            "8 * 3 = 24\n",
            "8 * 4 = 32\n",
            "8 * 5 = 40\n",
            "8 * 6 = 48\n",
            "8 * 7 = 56\n",
            "8 * 8 = 64\n",
            "8 * 9 = 72\n",
            "8 * 10 = 80\n"
          ]
        }
      ]
    },
    {
      "cell_type": "code",
      "source": [
        "for i in range(1, 10):\n",
        " if(i % 3 == 0 and i % 5 == 0):\n",
        "     print(\"FizzBuzz\")\n",
        " elif (i % 3 == 0):\n",
        "     print(\"Fizz\")\n",
        " elif(i % 5 == 0):\n",
        "     print(\"Buzz\")\n",
        " else:\n",
        "     print(i)"
      ],
      "metadata": {
        "colab": {
          "base_uri": "https://localhost:8080/"
        },
        "id": "s5qgwPgrDWU6",
        "outputId": "74d92643-d570-49da-caa8-f76afab3b3b1"
      },
      "execution_count": null,
      "outputs": [
        {
          "output_type": "stream",
          "name": "stdout",
          "text": [
            "1\n",
            "2\n",
            "Fizz\n",
            "4\n",
            "Buzz\n",
            "Fizz\n",
            "7\n",
            "8\n",
            "Fizz\n"
          ]
        }
      ]
    },
    {
      "cell_type": "code",
      "source": [
        "st = \"Data Science\"\n",
        "count = 0\n",
        "for i in st:\n",
        " if i == \"a\" or i == \"e\" or i == \"i\" or i == \"o\" or i == \"u\":\n",
        "     count = count + 1\n",
        "print(count)"
      ],
      "metadata": {
        "colab": {
          "base_uri": "https://localhost:8080/"
        },
        "id": "2wyX5kxGDiWv",
        "outputId": "8e680681-c4b7-4d23-b9e3-ef3ca5f0438a"
      },
      "execution_count": null,
      "outputs": [
        {
          "output_type": "stream",
          "name": "stdout",
          "text": [
            "5\n"
          ]
        }
      ]
    },
    {
      "cell_type": "code",
      "source": [
        "a = \"Data Science\"\n",
        "for i in range(0, 5):\n",
        " print(a)"
      ],
      "metadata": {
        "colab": {
          "base_uri": "https://localhost:8080/"
        },
        "id": "nxyUBLB2Emtj",
        "outputId": "7404f362-88d7-4f97-aca1-d95c7e97945f"
      },
      "execution_count": null,
      "outputs": [
        {
          "output_type": "stream",
          "name": "stdout",
          "text": [
            "Data Science\n",
            "Data Science\n",
            "Data Science\n",
            "Data Science\n",
            "Data Science\n"
          ]
        }
      ]
    },
    {
      "cell_type": "code",
      "source": [
        "for i in range(202, 321):\n",
        "    if i % 7 == 0 and i % 5 != 0:\n",
        "        print(i)"
      ],
      "metadata": {
        "colab": {
          "base_uri": "https://localhost:8080/"
        },
        "id": "dd2hywVwEMDg",
        "outputId": "495e64b2-ff92-4844-dd27-d31d3dcc44a6"
      },
      "execution_count": null,
      "outputs": [
        {
          "output_type": "stream",
          "name": "stdout",
          "text": [
            "203\n",
            "217\n",
            "224\n",
            "231\n",
            "238\n",
            "252\n",
            "259\n",
            "266\n",
            "273\n",
            "287\n",
            "294\n",
            "301\n",
            "308\n"
          ]
        }
      ]
    },
    {
      "cell_type": "code",
      "source": [
        "sum = 0\n",
        "for i in range(1, 101):\n",
        "  sum=sum+i\n",
        " # missing code\n",
        "print(sum)"
      ],
      "metadata": {
        "colab": {
          "base_uri": "https://localhost:8080/"
        },
        "id": "Ez0a467VDrWY",
        "outputId": "a4cb6395-e26e-4563-c420-17686dadd271"
      },
      "execution_count": null,
      "outputs": [
        {
          "output_type": "stream",
          "name": "stdout",
          "text": [
            "5050\n"
          ]
        }
      ]
    },
    {
      "cell_type": "code",
      "source": [
        "def mths(a, b):\n",
        " print(a + b)\n",
        " print(a - b)\n",
        " print(a * b)\n",
        " print(a // b)\n",
        "\n",
        "mths(9, 5)"
      ],
      "metadata": {
        "colab": {
          "base_uri": "https://localhost:8080/"
        },
        "id": "mj7Kl-47FMu6",
        "outputId": "d2dbe86a-43a5-40db-fda1-bc9737f570c2"
      },
      "execution_count": null,
      "outputs": [
        {
          "output_type": "stream",
          "name": "stdout",
          "text": [
            "14\n",
            "4\n",
            "45\n",
            "1\n"
          ]
        }
      ]
    },
    {
      "cell_type": "code",
      "source": [
        "\n",
        "for i in range(1, 11):\n",
        "     print(i ** 2)\n",
        "\n"
      ],
      "metadata": {
        "colab": {
          "base_uri": "https://localhost:8080/"
        },
        "id": "vHs-eiJ_Fj9W",
        "outputId": "4e3fdbf6-e134-45e1-fc61-95243fca69e4"
      },
      "execution_count": null,
      "outputs": [
        {
          "output_type": "stream",
          "name": "stdout",
          "text": [
            "1\n",
            "4\n",
            "9\n",
            "16\n",
            "25\n",
            "36\n",
            "49\n",
            "64\n",
            "81\n",
            "100\n"
          ]
        }
      ]
    },
    {
      "cell_type": "code",
      "source": [
        "def simple_interest(p, r, t):\n",
        "  si = (p * r * t) / 100\n",
        "  return si\n",
        "\n",
        "\n",
        "simple_interest(1000,10,10)"
      ],
      "metadata": {
        "colab": {
          "base_uri": "https://localhost:8080/"
        },
        "id": "hJ_gfkB6HBYX",
        "outputId": "228ff456-c682-4718-b3ea-7d3f7e52a604"
      },
      "execution_count": null,
      "outputs": [
        {
          "output_type": "execute_result",
          "data": {
            "text/plain": [
              "1000.0"
            ]
          },
          "metadata": {},
          "execution_count": 21
        }
      ]
    },
    {
      "cell_type": "code",
      "source": [
        "def chk(a):\n",
        " if a % 25 == 0:\n",
        "     return True\n",
        " else:\n",
        "     print(\"Not Divisible\")\n",
        "\n",
        "chk(51)"
      ],
      "metadata": {
        "colab": {
          "base_uri": "https://localhost:8080/"
        },
        "id": "kCNvWZqkHpKu",
        "outputId": "43c3e81d-2d1a-4c48-b1d8-c8275b7cbf52"
      },
      "execution_count": null,
      "outputs": [
        {
          "output_type": "stream",
          "name": "stdout",
          "text": [
            "Not Divisible\n"
          ]
        }
      ]
    },
    {
      "cell_type": "code",
      "source": [],
      "metadata": {
        "id": "bQeX-v1rIv2R"
      },
      "execution_count": null,
      "outputs": []
    },
    {
      "cell_type": "code",
      "source": [
        "def power(a, b):\n",
        " return a ** b\n",
        "power(7,2)"
      ],
      "metadata": {
        "colab": {
          "base_uri": "https://localhost:8080/"
        },
        "id": "fp6RD8z6IwG7",
        "outputId": "b20123dd-a276-493e-f68a-82fa15b9cdbd"
      },
      "execution_count": null,
      "outputs": [
        {
          "output_type": "execute_result",
          "data": {
            "text/plain": [
              "49"
            ]
          },
          "metadata": {},
          "execution_count": 23
        }
      ]
    },
    {
      "cell_type": "code",
      "source": [
        "def num(x):\n",
        " y = x * x\n",
        " z = y + 5\n",
        " return z\n",
        "\n",
        "print(num(5))"
      ],
      "metadata": {
        "colab": {
          "base_uri": "https://localhost:8080/"
        },
        "id": "wN5PkQ0pH5-H",
        "outputId": "dc9a51f3-b125-425c-dbae-c1c3976b60ff"
      },
      "execution_count": null,
      "outputs": [
        {
          "output_type": "stream",
          "name": "stdout",
          "text": [
            "30\n"
          ]
        }
      ]
    },
    {
      "cell_type": "code",
      "source": [
        "function = lambda x: x * x + 5\n",
        "\n",
        "\n"
      ],
      "metadata": {
        "id": "Wo9BcoWUIb7c"
      },
      "execution_count": null,
      "outputs": []
    },
    {
      "cell_type": "code",
      "source": [
        "def area(base, height):\n",
        " return 0.5 * base * height\n",
        "area(5, 10)"
      ],
      "metadata": {
        "colab": {
          "base_uri": "https://localhost:8080/"
        },
        "id": "cMdN1UDoI0-u",
        "outputId": "64bc2d7e-23e0-42f0-86d4-c8ac7ab7d976"
      },
      "execution_count": null,
      "outputs": [
        {
          "output_type": "execute_result",
          "data": {
            "text/plain": [
              "25.0"
            ]
          },
          "metadata": {},
          "execution_count": 26
        }
      ]
    },
    {
      "cell_type": "code",
      "source": [
        "def greet(country):\n",
        " print(\"I am from\", country)\n",
        "greet(\"Sweden\")"
      ],
      "metadata": {
        "colab": {
          "base_uri": "https://localhost:8080/"
        },
        "id": "uAJQT_SpJOwz",
        "outputId": "cf035fae-55ef-4298-9a9c-18e87dac19a8"
      },
      "execution_count": null,
      "outputs": [
        {
          "output_type": "stream",
          "name": "stdout",
          "text": [
            "I am from Sweden\n"
          ]
        }
      ]
    },
    {
      "cell_type": "code",
      "source": [
        "def convert(celsius):\n",
        " fah = 1.8 * celsius + 32\n",
        " print(\"Temperature in Fahrenheit =\", fah)\n",
        "convert(20)"
      ],
      "metadata": {
        "colab": {
          "base_uri": "https://localhost:8080/"
        },
        "id": "AqiW-bzRJZ_7",
        "outputId": "453693c4-3877-4fe0-a311-dab64848b689"
      },
      "execution_count": null,
      "outputs": [
        {
          "output_type": "stream",
          "name": "stdout",
          "text": [
            "Temperature in Fahrenheit = 68.0\n"
          ]
        }
      ]
    },
    {
      "cell_type": "code",
      "source": [
        "for i in range (0,11):\n",
        "  mul = 5*i\n",
        "  print(\"5 X\",i, \" = \", mul )"
      ],
      "metadata": {
        "colab": {
          "base_uri": "https://localhost:8080/"
        },
        "id": "tipIQAnpBFO6",
        "outputId": "25c4f4b4-8bde-4b9a-a640-6c2bfca6aef9"
      },
      "execution_count": null,
      "outputs": [
        {
          "output_type": "stream",
          "name": "stdout",
          "text": [
            "5 X 0  =  0\n",
            "5 X 1  =  5\n",
            "5 X 2  =  10\n",
            "5 X 3  =  15\n",
            "5 X 4  =  20\n",
            "5 X 5  =  25\n",
            "5 X 6  =  30\n",
            "5 X 7  =  35\n",
            "5 X 8  =  40\n",
            "5 X 9  =  45\n",
            "5 X 10  =  50\n"
          ]
        }
      ]
    },
    {
      "cell_type": "code",
      "source": [
        "numbers = int(input())\n",
        "\n",
        "# Write your code below\n",
        "sum = 0\n",
        "for i in range(0,numbers+1):\n",
        "    sum = sum + i\n",
        "    print (\"sum in side the loop\", sum)\n",
        "print (\"sum outside the loop\", sum)"
      ],
      "metadata": {
        "colab": {
          "base_uri": "https://localhost:8080/"
        },
        "id": "lGsx1zrSClxa",
        "outputId": "12168e1d-7815-4e88-d8f1-1aa7ed34d623"
      },
      "execution_count": null,
      "outputs": [
        {
          "output_type": "stream",
          "name": "stdout",
          "text": [
            "12\n",
            "sum in side the loop 0\n",
            "sum in side the loop 1\n",
            "sum in side the loop 3\n",
            "sum in side the loop 6\n",
            "sum in side the loop 10\n",
            "sum in side the loop 15\n",
            "sum in side the loop 21\n",
            "sum in side the loop 28\n",
            "sum in side the loop 36\n",
            "sum in side the loop 45\n",
            "sum in side the loop 55\n",
            "sum in side the loop 66\n",
            "sum in side the loop 78\n",
            "sum outside the loop 78\n"
          ]
        }
      ]
    },
    {
      "cell_type": "code",
      "source": [
        "n = 10\n",
        "i=0\n",
        "while n >=i:\n",
        "  print(i)\n",
        "  i += 2\n"
      ],
      "metadata": {
        "colab": {
          "base_uri": "https://localhost:8080/"
        },
        "id": "vjW_F8pMEJCc",
        "outputId": "4ffcd345-c211-45aa-8209-3b5fff19cd38"
      },
      "execution_count": null,
      "outputs": [
        {
          "output_type": "stream",
          "name": "stdout",
          "text": [
            "0\n",
            "2\n",
            "4\n",
            "6\n",
            "8\n",
            "10\n"
          ]
        }
      ]
    },
    {
      "cell_type": "code",
      "source": [
        "numbers = input().split()\n",
        "print (numbers)\n",
        "for i in numbers:\n",
        "  i = int(i)\n",
        "  if i % 2 == 1:\n",
        "    continue\n",
        "  print (i)\n",
        "\n"
      ],
      "metadata": {
        "id": "mz-i_tU2IWM6"
      },
      "execution_count": null,
      "outputs": []
    },
    {
      "cell_type": "code",
      "source": [
        "s = input()\n",
        "n = 0\n",
        "while n < len(str) :\n",
        "  print(s[n])\n",
        "  n += 1\n"
      ],
      "metadata": {
        "id": "zNCl4Z7nLJWd"
      },
      "execution_count": null,
      "outputs": []
    },
    {
      "cell_type": "code",
      "source": [
        "myList = [11,2,13,4,15]\n",
        "outList = []\n",
        "for i in myList :\n",
        "  outList.append(i**2)\n",
        "print (outList)\n"
      ],
      "metadata": {
        "id": "JQqw-tlUPT75"
      },
      "execution_count": null,
      "outputs": []
    },
    {
      "cell_type": "code",
      "source": [
        "myList = [1,2,3, 9 , 19]\n",
        "outList = [i**2 for i in myList]\n",
        "oddList = [i for i in myList if i % 3 == 0  ]\n",
        "print (outList)\n",
        "print (oddList)"
      ],
      "metadata": {
        "id": "eSr1FaecP_3k"
      },
      "execution_count": null,
      "outputs": []
    },
    {
      "cell_type": "code",
      "source": [
        "def square(a):\n",
        "  return (a*a)\n",
        "square(2)"
      ],
      "metadata": {
        "colab": {
          "base_uri": "https://localhost:8080/"
        },
        "id": "axBoEiQfE1-I",
        "outputId": "3ef07804-e4b4-400b-8787-20647125734d"
      },
      "execution_count": null,
      "outputs": [
        {
          "output_type": "execute_result",
          "data": {
            "text/plain": [
              "4"
            ]
          },
          "metadata": {},
          "execution_count": 39
        }
      ]
    },
    {
      "cell_type": "code",
      "source": [],
      "metadata": {
        "id": "CWYCLqqDGouO"
      },
      "execution_count": null,
      "outputs": []
    },
    {
      "cell_type": "code",
      "source": [
        "input_list = [5, 9, 3, 11, 7]\n",
        "\n",
        "# Write your code below\n",
        "def find_max(list):\n",
        "  max=list[0]\n",
        "  for i in range(len(list) - 1):\n",
        "    if max <= list[i+1]:\n",
        "      max = list[i+1]\n",
        "  return max\n",
        "\n",
        "maximum = find_max(input_list)\n",
        "print (maximum)\n",
        "\n"
      ],
      "metadata": {
        "colab": {
          "base_uri": "https://localhost:8080/"
        },
        "id": "g-PRQPYhGox7",
        "outputId": "c2172c22-4b6e-4ca1-f463-c2d29b7d5177"
      },
      "execution_count": null,
      "outputs": [
        {
          "output_type": "stream",
          "name": "stdout",
          "text": [
            "11\n"
          ]
        }
      ]
    },
    {
      "cell_type": "code",
      "source": [
        "a = int(input())\n",
        "b = int(input())\n",
        "c = int(input())\n",
        "\n",
        "def avg(a,b,c):\n",
        "  return ((a+b+c)/3)\n",
        "\n",
        "print (avg(a,b,c))"
      ],
      "metadata": {
        "colab": {
          "base_uri": "https://localhost:8080/"
        },
        "id": "-vOfTYimKWu5",
        "outputId": "b9c68305-935d-4e15-cbe0-255be2d91401"
      },
      "execution_count": null,
      "outputs": [
        {
          "output_type": "stream",
          "name": "stdout",
          "text": [
            "2\n",
            "3\n",
            "4\n",
            "3.0\n"
          ]
        }
      ]
    },
    {
      "cell_type": "code",
      "source": [
        "name = input()\n",
        "age = int(input())\n",
        "\n",
        "class Person:\n",
        "    def __init__(self,name,age):\n",
        "        # Write your code below\n",
        "        self.name = name\n",
        "        self.age = age\n",
        "        print (\"Name:\", self.name)\n",
        "        print (\"Age:\", self.age)\n",
        "\n",
        "# Create an object of the 'Person' class\n",
        "person = Person(name,age)"
      ],
      "metadata": {
        "colab": {
          "base_uri": "https://localhost:8080/"
        },
        "id": "4sgGJ2bAKW-U",
        "outputId": "3ca50054-63e6-472a-9195-740d0b34b642"
      },
      "execution_count": null,
      "outputs": [
        {
          "output_type": "stream",
          "name": "stdout",
          "text": [
            "Atul\n",
            "25\n",
            "Name: Atul\n",
            "Age: 25\n"
          ]
        }
      ]
    },
    {
      "cell_type": "code",
      "source": [
        "# You are given a class named 'Rectangle' with attributes 'length' and 'width'. Write a program to create an object of the 'Rectangle' class and set the attributes to the given values. Finally, calculate and print the area of the rectangle.\n",
        "\n",
        "class Rectangle:\n",
        "    def __init__(self,l,w):\n",
        "        # Write your code below\n",
        "        self.lgt = l\n",
        "        self.wgt = w\n",
        "        print (\"Area:\", self.lgt*self.wgt)\n",
        "\n",
        "# Create an object of the 'Rectangle' class\n",
        "length = int(input())\n",
        "width = int(input())\n",
        "rectangle = Rectangle(length, width)"
      ],
      "metadata": {
        "colab": {
          "base_uri": "https://localhost:8080/"
        },
        "id": "9THEl9pGNtu_",
        "outputId": "e7284ea1-c397-4754-beef-838f8866b3b6"
      },
      "execution_count": null,
      "outputs": [
        {
          "output_type": "stream",
          "name": "stdout",
          "text": [
            "5\n",
            "10\n",
            "Area: 50\n"
          ]
        }
      ]
    },
    {
      "cell_type": "code",
      "source": [
        "class Person:\n",
        "    def __init__(self, name, age):\n",
        "        # Write your code below\n",
        "        self.name = name\n",
        "        self.age = age\n",
        "\n",
        "\n",
        "\n",
        "\n",
        "# Create an object of the Person class\n",
        "name = str(input())\n",
        "age = int(input())\n",
        "person = Person(name, age)\n",
        "\n",
        "# Print the attributes of the person object\n",
        "print(person.name)\n",
        "print(person.age)"
      ],
      "metadata": {
        "colab": {
          "base_uri": "https://localhost:8080/"
        },
        "id": "LLWpDVc1Qfkh",
        "outputId": "7c3a3f54-7ae4-4e5c-a9c5-6b94f59b5809"
      },
      "execution_count": null,
      "outputs": [
        {
          "output_type": "stream",
          "name": "stdout",
          "text": [
            "Ashok\n",
            "40\n",
            "Ashok\n",
            "40\n"
          ]
        }
      ]
    },
    {
      "cell_type": "code",
      "source": [
        "name1 = input()\n",
        "name2 = input()\n",
        "\n",
        "# Class definition\n",
        "class Person:\n",
        "    def __init__(self, first_name, last_name):\n",
        "        self.first_name = first_name\n",
        "        self.last_name = last_name\n",
        "\n",
        "# Creating an object\n",
        "person1 = Person(name1, name2)\n",
        "\n",
        "# Accessing object variables\n",
        "\n",
        "# Write your code below\n",
        "print (person1.first_name, person1.last_name)"
      ],
      "metadata": {
        "colab": {
          "base_uri": "https://localhost:8080/"
        },
        "id": "eGcIKuc9Sfi0",
        "outputId": "5d642d5f-d344-4777-ebbe-9da9f1ecf993"
      },
      "execution_count": null,
      "outputs": [
        {
          "output_type": "stream",
          "name": "stdout",
          "text": [
            "John\n",
            "Doe\n",
            "John Doe\n"
          ]
        }
      ]
    }
  ]
}